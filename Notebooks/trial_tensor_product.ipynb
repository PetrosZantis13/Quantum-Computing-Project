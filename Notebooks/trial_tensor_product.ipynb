{
 "cells": [
  {
   "cell_type": "code",
   "execution_count": 22,
   "metadata": {},
   "outputs": [],
   "source": [
    "#Matrix product manual attempt"
   ]
  },
  {
   "cell_type": "code",
   "execution_count": 23,
   "metadata": {},
   "outputs": [],
   "source": [
    "def getColAsList(mat, col):\n",
    "    myList = []\n",
    "    numOfRows = len(mat)\n",
    "    for i in range(numOfRows):\n",
    "        myList.append(mat[i][col])\n",
    "    return myList\n",
    " \n",
    "def getCell(matrixA, matrixB, r, c):\n",
    "    matrixBCol = getColAsList(matrixB, c)\n",
    "    lenOfList = len(matrixBCol)\n",
    "    productList = [matrixA[r][i]*matrixBCol[i] for i in range(lenOfList)]\n",
    "    return sum(productList)"
   ]
  },
  {
   "cell_type": "code",
   "execution_count": 24,
   "metadata": {},
   "outputs": [],
   "source": [
    "def tensor_product(matrixA, matrixB):\n",
    " \n",
    "    rowA = len(matrixA)\n",
    "    colA = len(matrixA[0])\n",
    "    rowB = len(matrixB)\n",
    "    colB = len(matrixB[0])\n",
    "\n",
    "    result = [[0 for p in range(colB)] for q in range(rowA)]\n",
    "\n",
    "    if (colA != rowB):\n",
    "        print('The two matrices cannot be multiplied')\n",
    "    else:\n",
    "        for i in range(rowA):\n",
    "            for j in range(colB):\n",
    "                result[i][j] = getCell(matrixA, matrixB, i, j)\n",
    "    return(result)"
   ]
  },
  {
   "cell_type": "code",
   "execution_count": 25,
   "metadata": {},
   "outputs": [
    {
     "data": {
      "text/plain": [
       "[[1, 2], [3, 4]]"
      ]
     },
     "execution_count": 25,
     "metadata": {},
     "output_type": "execute_result"
    }
   ],
   "source": [
    "matrixA = [[1,2] , [3,4]]\n",
    "matrixB = [[1,0], [0,1]]\n",
    "\n",
    "tensor_product(matrixA, matrixB)"
   ]
  },
  {
   "cell_type": "code",
   "execution_count": null,
   "metadata": {},
   "outputs": [],
   "source": []
  },
  {
   "cell_type": "code",
   "execution_count": null,
   "metadata": {},
   "outputs": [],
   "source": []
  }
 ],
 "metadata": {
  "kernelspec": {
   "display_name": "Python 3",
   "language": "python",
   "name": "python3"
  },
  "language_info": {
   "codemirror_mode": {
    "name": "ipython",
    "version": 3
   },
   "file_extension": ".py",
   "mimetype": "text/x-python",
   "name": "python",
   "nbconvert_exporter": "python",
   "pygments_lexer": "ipython3",
   "version": "3.7.3"
  }
 },
 "nbformat": 4,
 "nbformat_minor": 4
}
